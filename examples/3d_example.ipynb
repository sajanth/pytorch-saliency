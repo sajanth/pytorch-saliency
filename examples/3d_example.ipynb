{
 "cells": [
  {
   "cell_type": "markdown",
   "id": "6c3c1c81-6f29-4687-8da9-a8ac2e9f57f5",
   "metadata": {},
   "source": [
    "### following https://pytorch.org/hub/facebookresearch_pytorchvideo_resnet/"
   ]
  },
  {
   "cell_type": "code",
   "execution_count": 38,
   "id": "67588d71-3f9c-4b60-ab02-9c5066100a89",
   "metadata": {
    "tags": []
   },
   "outputs": [],
   "source": [
    "import pytorch_saliency as ps\n",
    "import torch\n",
    "import torchvision.transforms as T\n",
    "\n",
    "from pytorchvideo.data.encoded_video import EncodedVideo\n",
    "import pytorchvideo.transforms as TV"
   ]
  },
  {
   "cell_type": "code",
   "execution_count": null,
   "id": "7c77b9dc-dc47-464d-866d-86be1b0458b6",
   "metadata": {},
   "outputs": [],
   "source": [
    "#load pre-trained 3D resnet trained on Kinetics 400\n",
    "resnet3d = torch.hub.load('facebookresearch/pytorchvideo', 'slow_r50', pretrained=True)\n",
    "resnet3d.eval()"
   ]
  },
  {
   "cell_type": "code",
   "execution_count": 7,
   "id": "780dcb06-c4e1-4354-9907-9c5219cea924",
   "metadata": {},
   "outputs": [],
   "source": [
    "import urllib\n",
    "import json\n",
    "\n",
    "# downlaod labels\n",
    "json_url = \"https://dl.fbaipublicfiles.com/pyslowfast/dataset/class_names/kinetics_classnames.json\"\n",
    "json_filename = \"kinetics_classnames.json\"\n",
    "try: urllib.URLopener().retrieve(json_url, json_filename)\n",
    "except: urllib.request.urlretrieve(json_url, json_filename)"
   ]
  },
  {
   "cell_type": "code",
   "execution_count": 8,
   "id": "579ad632-f1ff-46a8-8aa7-e858d09bd52a",
   "metadata": {},
   "outputs": [],
   "source": [
    "# create dict with int label -> text label\n",
    "with open(json_filename, \"r\") as f:\n",
    "    class_names = json.load(f)\n",
    "classes = {i : label.replace('\"', \"\") for label, i in class_names.items()}\n"
   ]
  },
  {
   "cell_type": "code",
   "execution_count": 27,
   "id": "dcabb7fa-0145-40fd-a0cd-1a320b3f7ae9",
   "metadata": {},
   "outputs": [
    {
     "name": "stderr",
     "output_type": "stream",
     "text": [
      "/Users/subrasal/saj_env/lib/python3.9/site-packages/torchvision/transforms/_functional_video.py:6: UserWarning: The 'torchvision.transforms._functional_video' module is deprecated since 0.12 and will be removed in 0.14. Please use the 'torchvision.transforms.functional' module instead.\n",
      "  warnings.warn(\n",
      "/Users/subrasal/saj_env/lib/python3.9/site-packages/torchvision/transforms/_transforms_video.py:25: UserWarning: The 'torchvision.transforms._transforms_video' module is deprecated since 0.12 and will be removed in 0.14. Please use the 'torchvision.transforms' module instead.\n",
      "  warnings.warn(\n"
     ]
    }
   ],
   "source": [
    "from torchvision.transforms._transforms_video import CenterCropVideo"
   ]
  },
  {
   "cell_type": "code",
   "execution_count": 28,
   "id": "2ae779da-a3ac-40b0-b7ac-e1df4deff502",
   "metadata": {},
   "outputs": [],
   "source": [
    "# slow_R50 specific pre-processing\n",
    "side_size = 256\n",
    "mean = [0.45, 0.45, 0.45]\n",
    "std = [0.225, 0.225, 0.225]\n",
    "crop_size = 256\n",
    "num_frames = 8\n",
    "sampling_rate = 8\n",
    "frames_per_second = 30\n",
    "\n",
    "transform =  TV.ApplyTransformToKey(\n",
    "    key=\"video\",\n",
    "    transform=T.Compose(\n",
    "        [\n",
    "            TV.UniformTemporalSubsample(num_frames),\n",
    "            T.Lambda(lambda x: x/255.0),\n",
    "            T._transforms_video.NormalizeVideo(mean, std),\n",
    "            TV.ShortSideScale(\n",
    "                size=side_size\n",
    "            ),\n",
    "            T._transforms_video.CenterCropVideo(crop_size=(crop_size, crop_size))\n",
    "        ]\n",
    "    ),\n",
    ")\n",
    "\n",
    "# The duration of the input clip is also specific to the model.\n",
    "clip_duration = (num_frames * sampling_rate)/frames_per_second"
   ]
  },
  {
   "cell_type": "code",
   "execution_count": 30,
   "id": "24dbc9ef-e057-4b5c-b67e-a11e8a5294ed",
   "metadata": {},
   "outputs": [],
   "source": [
    "# download video\n",
    "url_link = \"https://dl.fbaipublicfiles.com/pytorchvideo/projects/archery.mp4\"\n",
    "video_path = 'archery.mp4'\n",
    "try: urllib.URLopener().retrieve(url_link, video_path)\n",
    "except: urllib.request.urlretrieve(url_link, video_path)"
   ]
  },
  {
   "cell_type": "code",
   "execution_count": 39,
   "id": "96ac1a2b-6d29-4611-877f-004a73478d5c",
   "metadata": {},
   "outputs": [],
   "source": [
    "video = EncodedVideo.from_path(video_path)"
   ]
  },
  {
   "cell_type": "code",
   "execution_count": 42,
   "id": "eb869a26-1891-4c77-8dc6-68aaea18839f",
   "metadata": {},
   "outputs": [],
   "source": [
    "clip = video.get_clip(start_sec=0, end_sec=clip_duration)\n",
    "tensor = clip[\"video\"]"
   ]
  },
  {
   "cell_type": "code",
   "execution_count": 45,
   "id": "4eab3b61-b564-45bf-8233-56ff1fa6680a",
   "metadata": {},
   "outputs": [],
   "source": [
    "tens = clip[\"video\"]"
   ]
  },
  {
   "cell_type": "code",
   "execution_count": 64,
   "id": "fda2774f-ef9e-4ca4-8135-1b79ab4d5b76",
   "metadata": {},
   "outputs": [
    {
     "data": {
      "application/vnd.jupyter.widget-view+json": {
       "model_id": "5e022a41e9cc4209a5d0a835d358d262",
       "version_major": 2,
       "version_minor": 0
      },
      "text/plain": [
       "interactive(children=(IntSlider(value=32, description='Slice:', max=63), Output()), _dom_classes=('widget-inte…"
      ]
     },
     "metadata": {},
     "output_type": "display_data"
    }
   ],
   "source": [
    "ps.utils.plot(tens.unsqueeze(0).int(), interactive=True)"
   ]
  },
  {
   "cell_type": "code",
   "execution_count": null,
   "id": "e0050143-40e0-4305-8fbd-a8c5330c99a0",
   "metadata": {},
   "outputs": [],
   "source": []
  }
 ],
 "metadata": {
  "kernelspec": {
   "display_name": "Python 3 (ipykernel)",
   "language": "python",
   "name": "python3"
  },
  "language_info": {
   "codemirror_mode": {
    "name": "ipython",
    "version": 3
   },
   "file_extension": ".py",
   "mimetype": "text/x-python",
   "name": "python",
   "nbconvert_exporter": "python",
   "pygments_lexer": "ipython3",
   "version": "3.9.6"
  }
 },
 "nbformat": 4,
 "nbformat_minor": 5
}
