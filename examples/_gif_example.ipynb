{
 "cells": [
  {
   "cell_type": "code",
   "execution_count": 1,
   "id": "e5bf8e63-e8bc-4362-9880-0487a8c4c674",
   "metadata": {},
   "outputs": [],
   "source": [
    "%load_ext autoreload\n",
    "%autoreload 2"
   ]
  },
  {
   "cell_type": "code",
   "execution_count": 2,
   "id": "b5a0170d-015f-45c8-b179-56cb75c0c964",
   "metadata": {},
   "outputs": [],
   "source": [
    "from saliency import saliency\n",
    "import torch\n",
    "import torchvision.transforms as T\n",
    "from PIL import Image, ImageSequence\n",
    "import numpy as np\n",
    "from utils import saliency_plot\n",
    "import matplotlib.pyplot as plt"
   ]
  },
  {
   "cell_type": "code",
   "execution_count": 3,
   "id": "dd76daaf-2d35-4ebb-ab5a-c64c8d373082",
   "metadata": {
    "collapsed": true,
    "jupyter": {
     "outputs_hidden": true
    },
    "tags": []
   },
   "outputs": [
    {
     "name": "stderr",
     "output_type": "stream",
     "text": [
      "Using cache found in /Users/subrasal/.cache/torch/hub/pytorch_vision_v0.10.0\n",
      "/Users/subrasal/saj_env/lib/python3.9/site-packages/torchvision/models/_utils.py:208: UserWarning: The parameter 'pretrained' is deprecated since 0.13 and will be removed in 0.15, please use 'weights' instead.\n",
      "  warnings.warn(\n",
      "/Users/subrasal/saj_env/lib/python3.9/site-packages/torchvision/models/_utils.py:223: UserWarning: Arguments other than a weight enum or `None` for 'weights' are deprecated since 0.13 and will be removed in 0.15. The current behavior is equivalent to passing `weights=ResNet18_Weights.IMAGENET1K_V1`. You can also use `weights=ResNet18_Weights.DEFAULT` to get the most up-to-date weights.\n",
      "  warnings.warn(msg)\n"
     ]
    },
    {
     "data": {
      "text/plain": [
       "ResNet(\n",
       "  (conv1): Conv2d(3, 64, kernel_size=(7, 7), stride=(2, 2), padding=(3, 3), bias=False)\n",
       "  (bn1): BatchNorm2d(64, eps=1e-05, momentum=0.1, affine=True, track_running_stats=True)\n",
       "  (relu): ReLU(inplace=True)\n",
       "  (maxpool): MaxPool2d(kernel_size=3, stride=2, padding=1, dilation=1, ceil_mode=False)\n",
       "  (layer1): Sequential(\n",
       "    (0): BasicBlock(\n",
       "      (conv1): Conv2d(64, 64, kernel_size=(3, 3), stride=(1, 1), padding=(1, 1), bias=False)\n",
       "      (bn1): BatchNorm2d(64, eps=1e-05, momentum=0.1, affine=True, track_running_stats=True)\n",
       "      (relu): ReLU(inplace=True)\n",
       "      (conv2): Conv2d(64, 64, kernel_size=(3, 3), stride=(1, 1), padding=(1, 1), bias=False)\n",
       "      (bn2): BatchNorm2d(64, eps=1e-05, momentum=0.1, affine=True, track_running_stats=True)\n",
       "    )\n",
       "    (1): BasicBlock(\n",
       "      (conv1): Conv2d(64, 64, kernel_size=(3, 3), stride=(1, 1), padding=(1, 1), bias=False)\n",
       "      (bn1): BatchNorm2d(64, eps=1e-05, momentum=0.1, affine=True, track_running_stats=True)\n",
       "      (relu): ReLU(inplace=True)\n",
       "      (conv2): Conv2d(64, 64, kernel_size=(3, 3), stride=(1, 1), padding=(1, 1), bias=False)\n",
       "      (bn2): BatchNorm2d(64, eps=1e-05, momentum=0.1, affine=True, track_running_stats=True)\n",
       "    )\n",
       "  )\n",
       "  (layer2): Sequential(\n",
       "    (0): BasicBlock(\n",
       "      (conv1): Conv2d(64, 128, kernel_size=(3, 3), stride=(2, 2), padding=(1, 1), bias=False)\n",
       "      (bn1): BatchNorm2d(128, eps=1e-05, momentum=0.1, affine=True, track_running_stats=True)\n",
       "      (relu): ReLU(inplace=True)\n",
       "      (conv2): Conv2d(128, 128, kernel_size=(3, 3), stride=(1, 1), padding=(1, 1), bias=False)\n",
       "      (bn2): BatchNorm2d(128, eps=1e-05, momentum=0.1, affine=True, track_running_stats=True)\n",
       "      (downsample): Sequential(\n",
       "        (0): Conv2d(64, 128, kernel_size=(1, 1), stride=(2, 2), bias=False)\n",
       "        (1): BatchNorm2d(128, eps=1e-05, momentum=0.1, affine=True, track_running_stats=True)\n",
       "      )\n",
       "    )\n",
       "    (1): BasicBlock(\n",
       "      (conv1): Conv2d(128, 128, kernel_size=(3, 3), stride=(1, 1), padding=(1, 1), bias=False)\n",
       "      (bn1): BatchNorm2d(128, eps=1e-05, momentum=0.1, affine=True, track_running_stats=True)\n",
       "      (relu): ReLU(inplace=True)\n",
       "      (conv2): Conv2d(128, 128, kernel_size=(3, 3), stride=(1, 1), padding=(1, 1), bias=False)\n",
       "      (bn2): BatchNorm2d(128, eps=1e-05, momentum=0.1, affine=True, track_running_stats=True)\n",
       "    )\n",
       "  )\n",
       "  (layer3): Sequential(\n",
       "    (0): BasicBlock(\n",
       "      (conv1): Conv2d(128, 256, kernel_size=(3, 3), stride=(2, 2), padding=(1, 1), bias=False)\n",
       "      (bn1): BatchNorm2d(256, eps=1e-05, momentum=0.1, affine=True, track_running_stats=True)\n",
       "      (relu): ReLU(inplace=True)\n",
       "      (conv2): Conv2d(256, 256, kernel_size=(3, 3), stride=(1, 1), padding=(1, 1), bias=False)\n",
       "      (bn2): BatchNorm2d(256, eps=1e-05, momentum=0.1, affine=True, track_running_stats=True)\n",
       "      (downsample): Sequential(\n",
       "        (0): Conv2d(128, 256, kernel_size=(1, 1), stride=(2, 2), bias=False)\n",
       "        (1): BatchNorm2d(256, eps=1e-05, momentum=0.1, affine=True, track_running_stats=True)\n",
       "      )\n",
       "    )\n",
       "    (1): BasicBlock(\n",
       "      (conv1): Conv2d(256, 256, kernel_size=(3, 3), stride=(1, 1), padding=(1, 1), bias=False)\n",
       "      (bn1): BatchNorm2d(256, eps=1e-05, momentum=0.1, affine=True, track_running_stats=True)\n",
       "      (relu): ReLU(inplace=True)\n",
       "      (conv2): Conv2d(256, 256, kernel_size=(3, 3), stride=(1, 1), padding=(1, 1), bias=False)\n",
       "      (bn2): BatchNorm2d(256, eps=1e-05, momentum=0.1, affine=True, track_running_stats=True)\n",
       "    )\n",
       "  )\n",
       "  (layer4): Sequential(\n",
       "    (0): BasicBlock(\n",
       "      (conv1): Conv2d(256, 512, kernel_size=(3, 3), stride=(2, 2), padding=(1, 1), bias=False)\n",
       "      (bn1): BatchNorm2d(512, eps=1e-05, momentum=0.1, affine=True, track_running_stats=True)\n",
       "      (relu): ReLU(inplace=True)\n",
       "      (conv2): Conv2d(512, 512, kernel_size=(3, 3), stride=(1, 1), padding=(1, 1), bias=False)\n",
       "      (bn2): BatchNorm2d(512, eps=1e-05, momentum=0.1, affine=True, track_running_stats=True)\n",
       "      (downsample): Sequential(\n",
       "        (0): Conv2d(256, 512, kernel_size=(1, 1), stride=(2, 2), bias=False)\n",
       "        (1): BatchNorm2d(512, eps=1e-05, momentum=0.1, affine=True, track_running_stats=True)\n",
       "      )\n",
       "    )\n",
       "    (1): BasicBlock(\n",
       "      (conv1): Conv2d(512, 512, kernel_size=(3, 3), stride=(1, 1), padding=(1, 1), bias=False)\n",
       "      (bn1): BatchNorm2d(512, eps=1e-05, momentum=0.1, affine=True, track_running_stats=True)\n",
       "      (relu): ReLU(inplace=True)\n",
       "      (conv2): Conv2d(512, 512, kernel_size=(3, 3), stride=(1, 1), padding=(1, 1), bias=False)\n",
       "      (bn2): BatchNorm2d(512, eps=1e-05, momentum=0.1, affine=True, track_running_stats=True)\n",
       "    )\n",
       "  )\n",
       "  (avgpool): AdaptiveAvgPool2d(output_size=(1, 1))\n",
       "  (fc): Linear(in_features=512, out_features=1000, bias=True)\n",
       ")"
      ]
     },
     "execution_count": 3,
     "metadata": {},
     "output_type": "execute_result"
    }
   ],
   "source": [
    "#load pre-trained resnet18\n",
    "model = torch.hub.load('pytorch/vision:v0.10.0', 'resnet18', pretrained=True)\n",
    "model.eval()"
   ]
  },
  {
   "cell_type": "code",
   "execution_count": 5,
   "id": "6607828b-c26f-49d3-bb7f-378c3b78e145",
   "metadata": {},
   "outputs": [
    {
     "data": {
      "image/png": "[encoded data removed]",
      "text/plain": [
       "<Figure size 432x288 with 1 Axes>"
      ]
     },
     "metadata": {
      "needs_background": "light"
     },
     "output_type": "display_data"
    }
   ],
   "source": [
    "# read gif into tensor\n",
    "img = Image.open('catdog.gif')\n",
    "frames_raw = np.array([np.array(frame.copy().convert('RGB').getdata(),dtype=np.uint8).reshape(frame.size[1],frame.size[0],3) for frame in ImageSequence.Iterator(img)])\n",
    "plt.imshow(frames_raw[0])\n",
    "\n",
    "#preprocessing for resnet\n",
    "preprocess = T.Compose([\n",
    "    T.Resize(256),\n",
    "    T.CenterCrop(224),\n",
    "    T.Normalize(mean=[0.485, 0.456, 0.406], std=[0.229, 0.224, 0.225]),\n",
    "])\n",
    "\n",
    "# preprocessing without normalization\n",
    "preprocess_preview =  T.Compose([\n",
    "    T.Resize(256),\n",
    "    T.CenterCrop(224),\n",
    "])\n",
    "frames = np.transpose(frames_raw, (0, 3, 1, 2)).astype(float) #NWHC -> NCWH\n",
    "frames /= 255\n",
    "frames = torch.from_numpy(frames)\n",
    "frames_preview = preprocess_preview(frames)\n",
    "frames = preprocess(frames)"
   ]
  },
  {
   "cell_type": "code",
   "execution_count": 9,
   "id": "5527f764-bfbb-465c-b12a-a3f3815b7b5e",
   "metadata": {},
   "outputs": [
    {
     "data": {
      "application/vnd.jupyter.widget-view+json": {
       "model_id": "dc38d33d6cf74b6dae2dbe909edb9eb8",
       "version_major": 2,
       "version_minor": 0
      },
      "text/plain": [
       "interactive(children=(IntSlider(value=22, description='Slice:', max=43), Output()), _dom_classes=('widget-inte…"
      ]
     },
     "metadata": {},
     "output_type": "display_data"
    }
   ],
   "source": [
    "saliency_plot(torch.permute(frames, (1, 0, 2, 3)).unsqueeze(0), mode=\"3D\", interactive=True)"
   ]
  },
  {
   "cell_type": "code",
   "execution_count": 19,
   "id": "caf244a1-dfa1-49ad-be79-2e7cec266c75",
   "metadata": {},
   "outputs": [],
   "source": [
    "with open(\"imagenet_classes.txt\", \"r\") as f:\n",
    "    categories = [s.strip() for s in f.readlines()]  "
   ]
  },
  {
   "cell_type": "code",
   "execution_count": 21,
   "id": "f3bc4274-d058-408e-a573-a93e425e1bcc",
   "metadata": {},
   "outputs": [
    {
     "data": {
      "text/plain": [
       "'beagle'"
      ]
     },
     "execution_count": 21,
     "metadata": {},
     "output_type": "execute_result"
    }
   ],
   "source": [
    "categories[162]"
   ]
  },
  {
   "cell_type": "code",
   "execution_count": 126,
   "id": "70841fe3-a1d0-4868-931b-689b6c00c2ef",
   "metadata": {},
   "outputs": [],
   "source": [
    "pred = model(frames[0].unsqueeze(0))\n",
    "preds = torch.topk(pred, 5)"
   ]
  },
  {
   "cell_type": "code",
   "execution_count": 127,
   "id": "9964f103-f793-4cd7-8aeb-7f562b39cb9a",
   "metadata": {},
   "outputs": [
    {
     "name": "stdout",
     "output_type": "stream",
     "text": [
      "tensor(162)\n",
      "beagle\n",
      "tensor(151)\n",
      "Chihuahua\n",
      "tensor(180)\n",
      "American Staffordshire terrier\n",
      "tensor(227)\n",
      "kelpie\n",
      "tensor(811)\n",
      "space heater\n"
     ]
    }
   ],
   "source": [
    "for i in preds[1].flatten():\n",
    "    print(i)\n",
    "    print(categories[i])"
   ]
  },
  {
   "cell_type": "code",
   "execution_count": 6,
   "id": "13ee241a-e97e-4ad4-96ee-e0ce7eef536c",
   "metadata": {},
   "outputs": [],
   "source": [
    "cam = saliency(model.double(), method = \"GradCAM\", mode=\"2D\", section_names=[[\"conv1\",\"bn1\",\"relu\",\"maxpool\",\"layer1\",\"layer2\",\"layer3\",\"layer4\"],[\"fc\"]], adaptive_layer=\"avgpool\")"
   ]
  },
  {
   "cell_type": "code",
   "execution_count": 7,
   "id": "0c6e8825-71fa-459a-ab67-62ad47d4d7f1",
   "metadata": {},
   "outputs": [
    {
     "name": "stderr",
     "output_type": "stream",
     "text": [
      "[W NNPACK.cpp:51] Could not initialize NNPACK! Reason: Unsupported hardware.\n"
     ]
    }
   ],
   "source": [
    "_, cams_cat = cam(frames, [281]*len(frames))\n",
    "_, cams_doggo = cam(frames, [162]*len(frames))"
   ]
  },
  {
   "cell_type": "code",
   "execution_count": 8,
   "id": "43078d34-f78f-4e1c-bc80-848ed2b77570",
   "metadata": {},
   "outputs": [],
   "source": [
    "vid = torch.permute(frames_preview, (1, 0, 2, 3)).unsqueeze(0)\n",
    "vid_cam_cat = torch.permute(cams_cat, (1, 0, 2, 3))\n",
    "vid_cam_doggo = torch.permute(cams_doggo, (1, 0, 2, 3)) "
   ]
  },
  {
   "cell_type": "code",
   "execution_count": 9,
   "id": "7be1643d-ff56-4a85-964a-90efdc9f0594",
   "metadata": {},
   "outputs": [
    {
     "data": {
      "text/plain": [
       "torch.Size([1, 3, 44, 224, 224])"
      ]
     },
     "execution_count": 9,
     "metadata": {},
     "output_type": "execute_result"
    }
   ],
   "source": [
    "vid.shape"
   ]
  },
  {
   "cell_type": "code",
   "execution_count": 10,
   "id": "bf5ce26d-f5aa-4a7a-a9bb-f0d985dfb24b",
   "metadata": {
    "tags": []
   },
   "outputs": [
    {
     "data": {
      "application/vnd.jupyter.widget-view+json": {
       "model_id": "4365958dc3d346c6a8701a283ab5701c",
       "version_major": 2,
       "version_minor": 0
      },
      "text/plain": [
       "interactive(children=(IntSlider(value=22, description='Slice:', max=43), Output()), _dom_classes=('widget-inte…"
      ]
     },
     "metadata": {},
     "output_type": "display_data"
    }
   ],
   "source": [
    "saliency_plot(vid, [vid_cam_cat, vid_cam_doggo], mode=\"3D\", interactive=True, scale=2, show_cb=True, titles=[None, \"ResNet18 prediction for 'tabby'\", \"ResNet18 prediction for 'beagle'\"], show_axis=False)"
   ]
  },
  {
   "cell_type": "code",
   "execution_count": 115,
   "id": "4314b518-2cf2-42ff-93e0-d9e2262182be",
   "metadata": {},
   "outputs": [
    {
     "data": {
      "text/plain": [
       "torch.Size([47, 1, 224, 224])"
      ]
     },
     "execution_count": 115,
     "metadata": {},
     "output_type": "execute_result"
    }
   ],
   "source": [
    "cams.shape"
   ]
  },
  {
   "cell_type": "code",
   "execution_count": 97,
   "id": "420cb593-a5af-4a9a-8935-1459261a2ab1",
   "metadata": {},
   "outputs": [
    {
     "data": {
      "text/plain": [
       "tensor([[[0.0097, 0.0097, 0.0097,  ..., 0.0000, 0.0000, 0.0000],\n",
       "         [0.0097, 0.0097, 0.0097,  ..., 0.0000, 0.0000, 0.0000],\n",
       "         [0.0097, 0.0097, 0.0097,  ..., 0.0000, 0.0000, 0.0000],\n",
       "         ...,\n",
       "         [0.0000, 0.0000, 0.0000,  ..., 0.0000, 0.0000, 0.0000],\n",
       "         [0.0000, 0.0000, 0.0000,  ..., 0.0000, 0.0000, 0.0000],\n",
       "         [0.0000, 0.0000, 0.0000,  ..., 0.0000, 0.0000, 0.0000]]],\n",
       "       grad_fn=<SelectBackward0>)"
      ]
     },
     "execution_count": 97,
     "metadata": {},
     "output_type": "execute_result"
    }
   ],
   "source": [
    "cams["
   ]
  },
  {
   "cell_type": "code",
   "execution_count": 72,
   "id": "a31306b7-7b62-4aaa-bad2-27e959ca1a6b",
   "metadata": {},
   "outputs": [],
   "source": [
    "import glob\n",
    "gif_in = \"./*.png\"\n",
    "gif_out = \"output_example.gif\"\n",
    "\n",
    "imgs = (Image.open(f) for f in sorted(glob.glob(gif_in), key=lambda i: int(i.replace(\".\", \"\").replace(\"/\", \"\").replace(\"png\", \"\"))))\n",
    "img = next(imgs)\n",
    "img.save(fp=gif_out, format=\"GIF\", append_images=imgs, save_all=True, duration=100, loop=2)"
   ]
  },
  {
   "cell_type": "code",
   "execution_count": 47,
   "id": "fcf31b0c-6350-41de-9c7d-fcf9ef68089b",
   "metadata": {},
   "outputs": [
    {
     "data": {
      "text/plain": [
       "<generator object <genexpr> at 0x7fe970782f20>"
      ]
     },
     "execution_count": 47,
     "metadata": {},
     "output_type": "execute_result"
    }
   ],
   "source": [
    "imgs"
   ]
  },
  {
   "cell_type": "code",
   "execution_count": 63,
   "id": "ff98e0fd-6c1c-4bc5-a6c2-db14a0088a2f",
   "metadata": {},
   "outputs": [],
   "source": [
    "b = [int(i.replace(\".\", \"\").replace(\"/\", \"\").replace(\"png\", \"\")) for i in glob.glob(gif_in)]"
   ]
  },
  {
   "cell_type": "code",
   "execution_count": 68,
   "id": "f209a50b-c13e-4bc4-a6ee-fc9da8b0efb7",
   "metadata": {},
   "outputs": [
    {
     "data": {
      "text/plain": [
       "['./0.png',\n",
       " './1.png',\n",
       " './2.png',\n",
       " './3.png',\n",
       " './4.png',\n",
       " './5.png',\n",
       " './6.png',\n",
       " './7.png',\n",
       " './8.png',\n",
       " './9.png',\n",
       " './10.png',\n",
       " './11.png',\n",
       " './12.png',\n",
       " './13.png',\n",
       " './14.png',\n",
       " './15.png',\n",
       " './16.png',\n",
       " './17.png',\n",
       " './18.png',\n",
       " './19.png',\n",
       " './20.png',\n",
       " './21.png',\n",
       " './22.png',\n",
       " './23.png',\n",
       " './24.png',\n",
       " './25.png',\n",
       " './26.png',\n",
       " './27.png',\n",
       " './28.png',\n",
       " './29.png',\n",
       " './30.png',\n",
       " './31.png',\n",
       " './32.png',\n",
       " './33.png',\n",
       " './34.png',\n",
       " './35.png',\n",
       " './36.png',\n",
       " './37.png',\n",
       " './38.png',\n",
       " './39.png',\n",
       " './40.png',\n",
       " './41.png',\n",
       " './42.png',\n",
       " './43.png']"
      ]
     },
     "execution_count": 68,
     "metadata": {},
     "output_type": "execute_result"
    }
   ],
   "source": [
    "a"
   ]
  },
  {
   "cell_type": "code",
   "execution_count": 67,
   "id": "a774bd7e-4b11-4874-9e95-f3b1304c3d61",
   "metadata": {},
   "outputs": [],
   "source": []
  },
  {
   "cell_type": "code",
   "execution_count": 54,
   "id": "e8275815-770a-4f5c-8065-e6c1c5303e58",
   "metadata": {},
   "outputs": [
    {
     "ename": "SyntaxError",
     "evalue": "cannot assign to function call (3873586802.py, line 1)",
     "output_type": "error",
     "traceback": [
      "\u001b[0;36m  File \u001b[0;32m\"/var/folders/fm/b7zttxvj0g113b2zbcmnzhgr0000gn/T/ipykernel_20989/3873586802.py\"\u001b[0;36m, line \u001b[0;32m1\u001b[0m\n\u001b[0;31m    [int(i) for i.split() in a]\u001b[0m\n\u001b[0m                ^\u001b[0m\n\u001b[0;31mSyntaxError\u001b[0m\u001b[0;31m:\u001b[0m cannot assign to function call\n"
     ]
    }
   ],
   "source": [
    "[int(i) for i.split() in a]"
   ]
  },
  {
   "cell_type": "code",
   "execution_count": 58,
   "id": "857a05dd-ab37-4cad-8589-6d8b49a2d79a",
   "metadata": {},
   "outputs": [
    {
     "data": {
      "text/plain": [
       "'asdfpng'"
      ]
     },
     "execution_count": 58,
     "metadata": {},
     "output_type": "execute_result"
    }
   ],
   "source": [
    "\"asdf.png\".replace(\".\", \"\")."
   ]
  },
  {
   "cell_type": "code",
   "execution_count": 61,
   "id": "5f39cf97-5361-4ff4-9036-732a2b6360e5",
   "metadata": {},
   "outputs": [
    {
     "data": {
      "text/plain": [
       "[0,\n",
       " 1,\n",
       " 10,\n",
       " 11,\n",
       " 12,\n",
       " 13,\n",
       " 14,\n",
       " 15,\n",
       " 16,\n",
       " 17,\n",
       " 18,\n",
       " 19,\n",
       " 2,\n",
       " 20,\n",
       " 21,\n",
       " 22,\n",
       " 23,\n",
       " 24,\n",
       " 25,\n",
       " 26,\n",
       " 27,\n",
       " 28,\n",
       " 29,\n",
       " 3,\n",
       " 30,\n",
       " 31,\n",
       " 32,\n",
       " 33,\n",
       " 34,\n",
       " 35,\n",
       " 36,\n",
       " 37,\n",
       " 38,\n",
       " 39,\n",
       " 4,\n",
       " 40,\n",
       " 41,\n",
       " 42,\n",
       " 43,\n",
       " 5,\n",
       " 6,\n",
       " 7,\n",
       " 8,\n",
       " 9]"
      ]
     },
     "execution_count": 61,
     "metadata": {},
     "output_type": "execute_result"
    }
   ],
   "source": [
    "[int(i.replace(\".\", \"\").replace(\"/\", \"\").replace(\"png\", \"\")) for i in a]"
   ]
  },
  {
   "cell_type": "code",
   "execution_count": null,
   "id": "38bd06ab-677c-447f-b0b6-b359ba368f3a",
   "metadata": {},
   "outputs": [],
   "source": []
  }
 ],
 "metadata": {
  "kernelspec": {
   "display_name": "Python 3 (ipykernel)",
   "language": "python",
   "name": "python3"
  },
  "language_info": {
   "codemirror_mode": {
    "name": "ipython",
    "version": 3
   },
   "file_extension": ".py",
   "mimetype": "text/x-python",
   "name": "python",
   "nbconvert_exporter": "python",
   "pygments_lexer": "ipython3",
   "version": "3.9.6"
  }
 },
 "nbformat": 4,
 "nbformat_minor": 5
}
